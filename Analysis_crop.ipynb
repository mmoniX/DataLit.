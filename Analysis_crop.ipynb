{
 "cells": [
  {
   "cell_type": "code",
   "execution_count": 1,
   "id": "f8bab0cf",
   "metadata": {},
   "outputs": [],
   "source": [
    "import numpy as np\n",
    "import pandas as pd\n",
    "import seaborn as sns\n",
    "from matplotlib import pyplot as plt\n",
    "import sklearn\n",
    "from sklearn.linear_model import LinearRegression\n",
    "import statsmodels.api as sm\n",
    "import scipy.stats as stats"
   ]
  },
  {
   "cell_type": "code",
   "execution_count": 2,
   "id": "c3ddb806",
   "metadata": {},
   "outputs": [
    {
     "data": {
      "text/html": [
       "<div>\n",
       "<style scoped>\n",
       "    .dataframe tbody tr th:only-of-type {\n",
       "        vertical-align: middle;\n",
       "    }\n",
       "\n",
       "    .dataframe tbody tr th {\n",
       "        vertical-align: top;\n",
       "    }\n",
       "\n",
       "    .dataframe thead th {\n",
       "        text-align: right;\n",
       "    }\n",
       "</style>\n",
       "<table border=\"1\" class=\"dataframe\">\n",
       "  <thead>\n",
       "    <tr style=\"text-align: right;\">\n",
       "      <th></th>\n",
       "      <th>Domain Code</th>\n",
       "      <th>Domain</th>\n",
       "      <th>Area Code (FAO)</th>\n",
       "      <th>Area</th>\n",
       "      <th>Element Code</th>\n",
       "      <th>Element</th>\n",
       "      <th>Item Code (FAO)</th>\n",
       "      <th>Item</th>\n",
       "      <th>Year Code</th>\n",
       "      <th>Year</th>\n",
       "      <th>Unit</th>\n",
       "      <th>Value</th>\n",
       "      <th>Flag</th>\n",
       "      <th>Flag Description</th>\n",
       "    </tr>\n",
       "  </thead>\n",
       "  <tbody>\n",
       "    <tr>\n",
       "      <th>0</th>\n",
       "      <td>QCL</td>\n",
       "      <td>Crops and livestock products</td>\n",
       "      <td>16</td>\n",
       "      <td>Bangladesh</td>\n",
       "      <td>5312</td>\n",
       "      <td>Area harvested</td>\n",
       "      <td>486</td>\n",
       "      <td>Bananas</td>\n",
       "      <td>1961</td>\n",
       "      <td>1961</td>\n",
       "      <td>ha</td>\n",
       "      <td>33600.0</td>\n",
       "      <td>NaN</td>\n",
       "      <td>Official data</td>\n",
       "    </tr>\n",
       "    <tr>\n",
       "      <th>1</th>\n",
       "      <td>QCL</td>\n",
       "      <td>Crops and livestock products</td>\n",
       "      <td>16</td>\n",
       "      <td>Bangladesh</td>\n",
       "      <td>5312</td>\n",
       "      <td>Area harvested</td>\n",
       "      <td>486</td>\n",
       "      <td>Bananas</td>\n",
       "      <td>1962</td>\n",
       "      <td>1962</td>\n",
       "      <td>ha</td>\n",
       "      <td>34800.0</td>\n",
       "      <td>NaN</td>\n",
       "      <td>Official data</td>\n",
       "    </tr>\n",
       "    <tr>\n",
       "      <th>2</th>\n",
       "      <td>QCL</td>\n",
       "      <td>Crops and livestock products</td>\n",
       "      <td>16</td>\n",
       "      <td>Bangladesh</td>\n",
       "      <td>5312</td>\n",
       "      <td>Area harvested</td>\n",
       "      <td>486</td>\n",
       "      <td>Bananas</td>\n",
       "      <td>1963</td>\n",
       "      <td>1963</td>\n",
       "      <td>ha</td>\n",
       "      <td>34000.0</td>\n",
       "      <td>NaN</td>\n",
       "      <td>Official data</td>\n",
       "    </tr>\n",
       "    <tr>\n",
       "      <th>3</th>\n",
       "      <td>QCL</td>\n",
       "      <td>Crops and livestock products</td>\n",
       "      <td>16</td>\n",
       "      <td>Bangladesh</td>\n",
       "      <td>5312</td>\n",
       "      <td>Area harvested</td>\n",
       "      <td>486</td>\n",
       "      <td>Bananas</td>\n",
       "      <td>1964</td>\n",
       "      <td>1964</td>\n",
       "      <td>ha</td>\n",
       "      <td>36000.0</td>\n",
       "      <td>NaN</td>\n",
       "      <td>Official data</td>\n",
       "    </tr>\n",
       "    <tr>\n",
       "      <th>4</th>\n",
       "      <td>QCL</td>\n",
       "      <td>Crops and livestock products</td>\n",
       "      <td>16</td>\n",
       "      <td>Bangladesh</td>\n",
       "      <td>5312</td>\n",
       "      <td>Area harvested</td>\n",
       "      <td>486</td>\n",
       "      <td>Bananas</td>\n",
       "      <td>1965</td>\n",
       "      <td>1965</td>\n",
       "      <td>ha</td>\n",
       "      <td>40500.0</td>\n",
       "      <td>NaN</td>\n",
       "      <td>Official data</td>\n",
       "    </tr>\n",
       "  </tbody>\n",
       "</table>\n",
       "</div>"
      ],
      "text/plain": [
       "  Domain Code                        Domain  Area Code (FAO)        Area  \\\n",
       "0         QCL  Crops and livestock products               16  Bangladesh   \n",
       "1         QCL  Crops and livestock products               16  Bangladesh   \n",
       "2         QCL  Crops and livestock products               16  Bangladesh   \n",
       "3         QCL  Crops and livestock products               16  Bangladesh   \n",
       "4         QCL  Crops and livestock products               16  Bangladesh   \n",
       "\n",
       "   Element Code         Element  Item Code (FAO)     Item  Year Code  Year  \\\n",
       "0          5312  Area harvested              486  Bananas       1961  1961   \n",
       "1          5312  Area harvested              486  Bananas       1962  1962   \n",
       "2          5312  Area harvested              486  Bananas       1963  1963   \n",
       "3          5312  Area harvested              486  Bananas       1964  1964   \n",
       "4          5312  Area harvested              486  Bananas       1965  1965   \n",
       "\n",
       "  Unit    Value Flag Flag Description  \n",
       "0   ha  33600.0  NaN    Official data  \n",
       "1   ha  34800.0  NaN    Official data  \n",
       "2   ha  34000.0  NaN    Official data  \n",
       "3   ha  36000.0  NaN    Official data  \n",
       "4   ha  40500.0  NaN    Official data  "
      ]
     },
     "execution_count": 2,
     "metadata": {},
     "output_type": "execute_result"
    }
   ],
   "source": [
    "data=pd.read_csv('C:/Users/Asus/Downloads/assignment/crop3.csv',delimiter=',')\n",
    "data.head()"
   ]
  },
  {
   "cell_type": "code",
   "execution_count": 8,
   "id": "be79b0c5",
   "metadata": {},
   "outputs": [
    {
     "data": {
      "text/html": [
       "<div>\n",
       "<style scoped>\n",
       "    .dataframe tbody tr th:only-of-type {\n",
       "        vertical-align: middle;\n",
       "    }\n",
       "\n",
       "    .dataframe tbody tr th {\n",
       "        vertical-align: top;\n",
       "    }\n",
       "\n",
       "    .dataframe thead th {\n",
       "        text-align: right;\n",
       "    }\n",
       "</style>\n",
       "<table border=\"1\" class=\"dataframe\">\n",
       "  <thead>\n",
       "    <tr style=\"text-align: right;\">\n",
       "      <th></th>\n",
       "      <th>Year</th>\n",
       "      <th>Country</th>\n",
       "      <th>Crop</th>\n",
       "      <th>Production</th>\n",
       "    </tr>\n",
       "  </thead>\n",
       "  <tbody>\n",
       "    <tr>\n",
       "      <th>60</th>\n",
       "      <td>1961</td>\n",
       "      <td>Bangladesh</td>\n",
       "      <td>Bananas</td>\n",
       "      <td>446000.0</td>\n",
       "    </tr>\n",
       "    <tr>\n",
       "      <th>61</th>\n",
       "      <td>1962</td>\n",
       "      <td>Bangladesh</td>\n",
       "      <td>Bananas</td>\n",
       "      <td>512100.0</td>\n",
       "    </tr>\n",
       "    <tr>\n",
       "      <th>62</th>\n",
       "      <td>1963</td>\n",
       "      <td>Bangladesh</td>\n",
       "      <td>Bananas</td>\n",
       "      <td>469400.0</td>\n",
       "    </tr>\n",
       "    <tr>\n",
       "      <th>63</th>\n",
       "      <td>1964</td>\n",
       "      <td>Bangladesh</td>\n",
       "      <td>Bananas</td>\n",
       "      <td>571100.0</td>\n",
       "    </tr>\n",
       "    <tr>\n",
       "      <th>64</th>\n",
       "      <td>1965</td>\n",
       "      <td>Bangladesh</td>\n",
       "      <td>Bananas</td>\n",
       "      <td>619800.0</td>\n",
       "    </tr>\n",
       "    <tr>\n",
       "      <th>...</th>\n",
       "      <td>...</td>\n",
       "      <td>...</td>\n",
       "      <td>...</td>\n",
       "      <td>...</td>\n",
       "    </tr>\n",
       "    <tr>\n",
       "      <th>9675</th>\n",
       "      <td>2016</td>\n",
       "      <td>Viet Nam</td>\n",
       "      <td>Vegetables, fresh nes</td>\n",
       "      <td>13815107.0</td>\n",
       "    </tr>\n",
       "    <tr>\n",
       "      <th>9676</th>\n",
       "      <td>2017</td>\n",
       "      <td>Viet Nam</td>\n",
       "      <td>Vegetables, fresh nes</td>\n",
       "      <td>14236489.0</td>\n",
       "    </tr>\n",
       "    <tr>\n",
       "      <th>9677</th>\n",
       "      <td>2018</td>\n",
       "      <td>Viet Nam</td>\n",
       "      <td>Vegetables, fresh nes</td>\n",
       "      <td>14879631.0</td>\n",
       "    </tr>\n",
       "    <tr>\n",
       "      <th>9678</th>\n",
       "      <td>2019</td>\n",
       "      <td>Viet Nam</td>\n",
       "      <td>Vegetables, fresh nes</td>\n",
       "      <td>15120123.0</td>\n",
       "    </tr>\n",
       "    <tr>\n",
       "      <th>9679</th>\n",
       "      <td>2020</td>\n",
       "      <td>Viet Nam</td>\n",
       "      <td>Vegetables, fresh nes</td>\n",
       "      <td>15449739.0</td>\n",
       "    </tr>\n",
       "  </tbody>\n",
       "</table>\n",
       "<p>4855 rows × 4 columns</p>\n",
       "</div>"
      ],
      "text/plain": [
       "      Year     Country                   Crop  Production\n",
       "60    1961  Bangladesh                Bananas    446000.0\n",
       "61    1962  Bangladesh                Bananas    512100.0\n",
       "62    1963  Bangladesh                Bananas    469400.0\n",
       "63    1964  Bangladesh                Bananas    571100.0\n",
       "64    1965  Bangladesh                Bananas    619800.0\n",
       "...    ...         ...                    ...         ...\n",
       "9675  2016    Viet Nam  Vegetables, fresh nes  13815107.0\n",
       "9676  2017    Viet Nam  Vegetables, fresh nes  14236489.0\n",
       "9677  2018    Viet Nam  Vegetables, fresh nes  14879631.0\n",
       "9678  2019    Viet Nam  Vegetables, fresh nes  15120123.0\n",
       "9679  2020    Viet Nam  Vegetables, fresh nes  15449739.0\n",
       "\n",
       "[4855 rows x 4 columns]"
      ]
     },
     "execution_count": 8,
     "metadata": {},
     "output_type": "execute_result"
    }
   ],
   "source": [
    "grouped = data.groupby(data.Element)\n",
    "df_production = grouped.get_group(\"Production\")\n",
    "df_production = df_production.rename(columns={\"Area\":\"Country\",\"Value\": \"Production\", \"Item\":\"Crop\"})\n",
    "df_production = df_production[[\"Year\",\"Country\",\"Crop\",\"Production\"]]\n",
    "df_production"
   ]
  },
  {
   "cell_type": "code",
   "execution_count": 29,
   "id": "b077341f",
   "metadata": {},
   "outputs": [
    {
     "data": {
      "text/plain": [
       "Year           0\n",
       "Country        0\n",
       "Crop           0\n",
       "Production    42\n",
       "dtype: int64"
      ]
     },
     "execution_count": 29,
     "metadata": {},
     "output_type": "execute_result"
    }
   ],
   "source": [
    "df_production.isnull().sum()"
   ]
  },
  {
   "cell_type": "code",
   "execution_count": 30,
   "id": "03eb18fb",
   "metadata": {},
   "outputs": [],
   "source": [
    "df_production = df_production.dropna()"
   ]
  },
  {
   "cell_type": "code",
   "execution_count": 31,
   "id": "9da926ae",
   "metadata": {},
   "outputs": [
    {
     "data": {
      "text/plain": [
       "Year          0\n",
       "Country       0\n",
       "Crop          0\n",
       "Production    0\n",
       "dtype: int64"
      ]
     },
     "execution_count": 31,
     "metadata": {},
     "output_type": "execute_result"
    }
   ],
   "source": [
    "df_production.isnull().sum()"
   ]
  },
  {
   "cell_type": "code",
   "execution_count": 32,
   "id": "91154a74",
   "metadata": {},
   "outputs": [
    {
     "name": "stderr",
     "output_type": "stream",
     "text": [
      "C:\\Users\\Asus\\AppData\\Local\\Temp/ipykernel_24448/651180945.py:1: SettingWithCopyWarning: \n",
      "A value is trying to be set on a copy of a slice from a DataFrame.\n",
      "Try using .loc[row_indexer,col_indexer] = value instead\n",
      "\n",
      "See the caveats in the documentation: https://pandas.pydata.org/pandas-docs/stable/user_guide/indexing.html#returning-a-view-versus-a-copy\n",
      "  df_production['Production'] = df_production['Production'].astype(np.int64)\n"
     ]
    }
   ],
   "source": [
    "df_production['Production'] = df_production['Production'].astype(np.int64)"
   ]
  },
  {
   "cell_type": "code",
   "execution_count": 33,
   "id": "d8118414",
   "metadata": {},
   "outputs": [
    {
     "data": {
      "text/plain": [
       "Country\n",
       "China          32724823842\n",
       "India          27932397629\n",
       "Indonesia       6202241819\n",
       "Thailand        5315983545\n",
       "Pakistan        3929426227\n",
       "Philippines     3592734910\n",
       "Viet Nam        2748042124\n",
       "Bangladesh      2536104101\n",
       "Myanmar         1510056468\n",
       "Bhutan            10335788\n",
       "Name: Production, dtype: int64"
      ]
     },
     "execution_count": 33,
     "metadata": {},
     "output_type": "execute_result"
    }
   ],
   "source": [
    "df_production.groupby(['Country'],sort=True)['Production'].sum().nlargest(10)"
   ]
  },
  {
   "cell_type": "code",
   "execution_count": 34,
   "id": "952f2a0f",
   "metadata": {},
   "outputs": [
    {
     "data": {
      "text/plain": [
       "Crop                   Country    \n",
       "Sugar cane             India          13522065366\n",
       "Rice, paddy            China           9768144888\n",
       "Maize                  China           6400117296\n",
       "Rice, paddy            India           6389184042\n",
       "Wheat                  China           4889338551\n",
       "Vegetables, fresh nes  China           4644076707\n",
       "Sugar cane             China           3846903534\n",
       "Wheat                  India           3191242530\n",
       "Potatoes               China           2723489457\n",
       "Sugar cane             Thailand        2567018478\n",
       "                       Pakistan        2420322464\n",
       "Rice, paddy            Indonesia       2380997281\n",
       "                       Bangladesh      1802818825\n",
       "Sugar cane             Philippines     1484989922\n",
       "Vegetables, fresh nes  India           1425453179\n",
       "Rice, paddy            Viet Nam        1419350776\n",
       "Sugar cane             Indonesia       1323144787\n",
       "Rice, paddy            Thailand        1320165789\n",
       "Potatoes               India           1175781600\n",
       "Rice, paddy            Myanmar         1023910425\n",
       "Name: Production, dtype: int64"
      ]
     },
     "execution_count": 34,
     "metadata": {},
     "output_type": "execute_result"
    }
   ],
   "source": [
    "df_production.groupby(['Crop','Country'],sort=True)['Production'].sum().nlargest(20)"
   ]
  },
  {
   "cell_type": "code",
   "execution_count": 36,
   "id": "a892b524",
   "metadata": {},
   "outputs": [
    {
     "data": {
      "text/html": [
       "<div>\n",
       "<style scoped>\n",
       "    .dataframe tbody tr th:only-of-type {\n",
       "        vertical-align: middle;\n",
       "    }\n",
       "\n",
       "    .dataframe tbody tr th {\n",
       "        vertical-align: top;\n",
       "    }\n",
       "\n",
       "    .dataframe thead th {\n",
       "        text-align: right;\n",
       "    }\n",
       "</style>\n",
       "<table border=\"1\" class=\"dataframe\">\n",
       "  <thead>\n",
       "    <tr style=\"text-align: right;\">\n",
       "      <th></th>\n",
       "      <th>Year</th>\n",
       "      <th>Country</th>\n",
       "      <th>Crop</th>\n",
       "      <th>Production</th>\n",
       "      <th>Area_ha</th>\n",
       "    </tr>\n",
       "  </thead>\n",
       "  <tbody>\n",
       "    <tr>\n",
       "      <th>0</th>\n",
       "      <td>1961</td>\n",
       "      <td>Bangladesh</td>\n",
       "      <td>Bananas</td>\n",
       "      <td>446000</td>\n",
       "      <td>33600.0</td>\n",
       "    </tr>\n",
       "    <tr>\n",
       "      <th>1</th>\n",
       "      <td>1961</td>\n",
       "      <td>Bangladesh</td>\n",
       "      <td>Bananas</td>\n",
       "      <td>446000</td>\n",
       "      <td>17800.0</td>\n",
       "    </tr>\n",
       "    <tr>\n",
       "      <th>2</th>\n",
       "      <td>1961</td>\n",
       "      <td>Bangladesh</td>\n",
       "      <td>Bananas</td>\n",
       "      <td>446000</td>\n",
       "      <td>8903.0</td>\n",
       "    </tr>\n",
       "    <tr>\n",
       "      <th>3</th>\n",
       "      <td>1961</td>\n",
       "      <td>Bangladesh</td>\n",
       "      <td>Bananas</td>\n",
       "      <td>446000</td>\n",
       "      <td>55847.0</td>\n",
       "    </tr>\n",
       "    <tr>\n",
       "      <th>4</th>\n",
       "      <td>1961</td>\n",
       "      <td>Bangladesh</td>\n",
       "      <td>Bananas</td>\n",
       "      <td>446000</td>\n",
       "      <td>8483516.0</td>\n",
       "    </tr>\n",
       "    <tr>\n",
       "      <th>...</th>\n",
       "      <td>...</td>\n",
       "      <td>...</td>\n",
       "      <td>...</td>\n",
       "      <td>...</td>\n",
       "      <td>...</td>\n",
       "    </tr>\n",
       "    <tr>\n",
       "      <th>39140</th>\n",
       "      <td>2020</td>\n",
       "      <td>Viet Nam</td>\n",
       "      <td>Vegetables, fresh nes</td>\n",
       "      <td>15449739</td>\n",
       "      <td>939563.0</td>\n",
       "    </tr>\n",
       "    <tr>\n",
       "      <th>39141</th>\n",
       "      <td>2020</td>\n",
       "      <td>Viet Nam</td>\n",
       "      <td>Vegetables, fresh nes</td>\n",
       "      <td>15449739</td>\n",
       "      <td>18804.0</td>\n",
       "    </tr>\n",
       "    <tr>\n",
       "      <th>39142</th>\n",
       "      <td>2020</td>\n",
       "      <td>Viet Nam</td>\n",
       "      <td>Vegetables, fresh nes</td>\n",
       "      <td>15449739</td>\n",
       "      <td>7222618.0</td>\n",
       "    </tr>\n",
       "    <tr>\n",
       "      <th>39143</th>\n",
       "      <td>2020</td>\n",
       "      <td>Viet Nam</td>\n",
       "      <td>Vegetables, fresh nes</td>\n",
       "      <td>15449739</td>\n",
       "      <td>185435.0</td>\n",
       "    </tr>\n",
       "    <tr>\n",
       "      <th>39144</th>\n",
       "      <td>2020</td>\n",
       "      <td>Viet Nam</td>\n",
       "      <td>Vegetables, fresh nes</td>\n",
       "      <td>15449739</td>\n",
       "      <td>853824.0</td>\n",
       "    </tr>\n",
       "  </tbody>\n",
       "</table>\n",
       "<p>39145 rows × 5 columns</p>\n",
       "</div>"
      ],
      "text/plain": [
       "       Year     Country                   Crop  Production    Area_ha\n",
       "0      1961  Bangladesh                Bananas      446000    33600.0\n",
       "1      1961  Bangladesh                Bananas      446000    17800.0\n",
       "2      1961  Bangladesh                Bananas      446000     8903.0\n",
       "3      1961  Bangladesh                Bananas      446000    55847.0\n",
       "4      1961  Bangladesh                Bananas      446000  8483516.0\n",
       "...     ...         ...                    ...         ...        ...\n",
       "39140  2020    Viet Nam  Vegetables, fresh nes    15449739   939563.0\n",
       "39141  2020    Viet Nam  Vegetables, fresh nes    15449739    18804.0\n",
       "39142  2020    Viet Nam  Vegetables, fresh nes    15449739  7222618.0\n",
       "39143  2020    Viet Nam  Vegetables, fresh nes    15449739   185435.0\n",
       "39144  2020    Viet Nam  Vegetables, fresh nes    15449739   853824.0\n",
       "\n",
       "[39145 rows x 5 columns]"
      ]
     },
     "execution_count": 36,
     "metadata": {},
     "output_type": "execute_result"
    }
   ],
   "source": [
    "grouped = data.groupby(data.Element)\n",
    "df_area = grouped.get_group(\"Area harvested\")\n",
    "df_area = df_area.rename(columns={\"Area\":\"Country\",\"Value\": \"Area_ha\"})\n",
    "df_area = df_area[[\"Year\",\"Country\",\"Area_ha\"]]\n",
    "df_area = df_production.merge(df_area, on=['Year','Country'])\n",
    "df_area"
   ]
  },
  {
   "cell_type": "code",
   "execution_count": 48,
   "id": "a33b1b2a",
   "metadata": {},
   "outputs": [
    {
     "data": {
      "text/plain": [
       "Text(0.5, 1.0, 'Country wise Crop production')"
      ]
     },
     "execution_count": 48,
     "metadata": {},
     "output_type": "execute_result"
    },
    {
     "data": {
      "image/png": "[encoded data removed]",
      "text/plain": [
       "<Figure size 720x360 with 1 Axes>"
      ]
     },
     "metadata": {
      "needs_background": "light"
     },
     "output_type": "display_data"
    }
   ],
   "source": [
    "plt.figure(figsize=(10,5))\n",
    "plt.bar(df_area.Country, df_area.Production/10**2)\n",
    "plt.xlabel('Country')\n",
    "plt.ylabel('Procudtion')\n",
    "plt.title('Country wise Crop production')"
   ]
  },
  {
   "cell_type": "code",
   "execution_count": null,
   "id": "83b57e05",
   "metadata": {},
   "outputs": [],
   "source": []
  }
 ],
 "metadata": {
  "kernelspec": {
   "display_name": "Python 3 (ipykernel)",
   "language": "python",
   "name": "python3"
  },
  "language_info": {
   "codemirror_mode": {
    "name": "ipython",
    "version": 3
   },
   "file_extension": ".py",
   "mimetype": "text/x-python",
   "name": "python",
   "nbconvert_exporter": "python",
   "pygments_lexer": "ipython3",
   "version": "3.9.7"
  }
 },
 "nbformat": 4,
 "nbformat_minor": 5
}
